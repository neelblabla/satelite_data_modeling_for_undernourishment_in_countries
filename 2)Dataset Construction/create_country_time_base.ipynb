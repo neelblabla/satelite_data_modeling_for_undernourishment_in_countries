{
 "cells": [
  {
   "cell_type": "code",
   "execution_count": 1,
   "metadata": {},
   "outputs": [],
   "source": [
    "# importing the necessary library to deal with csv's\n",
    "import pandas as pd"
   ]
  },
  {
   "cell_type": "code",
   "execution_count": 2,
   "metadata": {},
   "outputs": [],
   "source": [
    "# importing the two base datasets\n",
    "country_data = pd.read_csv(\"country_name_data.csv\")\n",
    "\n",
    "base_data = pd.read_csv(\"undernourishment_data.csv\")"
   ]
  },
  {
   "cell_type": "code",
   "execution_count": 3,
   "metadata": {},
   "outputs": [],
   "source": [
    "# minor changes country base data\n",
    "country_data = country_data[[\"GAUL\", \"M49\", \"official_name_en\"\n",
    "]].rename(columns={\"official_name_en\": \"Area\"}).dropna()\n",
    "country_data[\"M49\"] = country_data[\"M49\"].astype('int64')"
   ]
  },
  {
   "cell_type": "code",
   "execution_count": 4,
   "metadata": {},
   "outputs": [],
   "source": [
    "# minor changes for PoU base data\n",
    "base_data = base_data[[\"Area Code (M49)\", \"Year\", \"Value\"\n",
    "]].rename(columns={\"Area Code (M49)\": \"M49\", \"Value\": \"Undernourishment (%)\"})"
   ]
  },
  {
   "cell_type": "code",
   "execution_count": 5,
   "metadata": {},
   "outputs": [],
   "source": [
    "# merging the two\n",
    "base_data = base_data.merge(country_data, on=\"M49\").dropna()\n",
    "base_data = base_data[[\"GAUL\", \"M49\", \"Area\", \"Year\"]]\n",
    "base_data.to_csv(\"country_time_base.csv\")"
   ]
  }
 ],
 "metadata": {
  "kernelspec": {
   "display_name": "Python 3.9.7 ('base')",
   "language": "python",
   "name": "python3"
  },
  "language_info": {
   "codemirror_mode": {
    "name": "ipython",
    "version": 3
   },
   "file_extension": ".py",
   "mimetype": "text/x-python",
   "name": "python",
   "nbconvert_exporter": "python",
   "pygments_lexer": "ipython3",
   "version": "3.9.7"
  },
  "orig_nbformat": 4,
  "vscode": {
   "interpreter": {
    "hash": "a322c5351b42b2f3c362c81cc5a34aa8242759b5218ce8bf44420f70b6af1b12"
   }
  }
 },
 "nbformat": 4,
 "nbformat_minor": 2
}
